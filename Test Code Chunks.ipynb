{
 "cells": [
  {
   "cell_type": "code",
   "execution_count": null,
   "metadata": {},
   "outputs": [],
   "source": [
    "def search_tweets(search_term, max_count) :\n",
    "    collected_tweets = []\n",
    "    tweets = tweepy.Cursor(api.search, q=search_term, tweet_mode='extended', lang='en', result_type='popular', fromDate=\"201906241000\").items(max_count)\n",
    "    for tweet in tweets:\n",
    "        print(tweet.full_text)\n",
    "        # Add tweets in this format\n",
    "        dict_ = {'Screen Name': tweet.user.screen_name,\n",
    "                'User Name': tweet.user.name,\n",
    "                'Tweet Created At': tweet.created_at,\n",
    "                'Tweet Text': tweet.full_text,\n",
    "                'User Location': tweet.user.location,\n",
    "                'Tweet Coordinates': tweet.coordinates,\n",
    "                'Retweet Count': tweet.retweet_count,\n",
    "                'Retweeted': tweet.retweeted,\n",
    "                'Phone Type': tweet.source,\n",
    "                'Favorite Count': tweet.favorite_count,\n",
    "                'Favorited': tweet.favorited,\n",
    "                'Replied': tweet.in_reply_to_status_id_str\n",
    "                }\n",
    "        #content = tweet.\n",
    "        collected_tweets.append(dict_)\n",
    "        print(\"\\n\\n\")\n",
    "    return collected_tweets\n",
    "\n",
    "search_term = \"@swiggy_in OR @swiggycares\"  #since:2019-06-24 until:2019-06-25\n",
    "item = search_tweets(search_term,10)\n",
    "#print(item)"
   ]
  },
  {
   "cell_type": "code",
   "execution_count": null,
   "metadata": {},
   "outputs": [],
   "source": [
    "def search_tweets(search_term, max_count) :\n",
    "    collected_tweets = []\n",
    "    tweets = tweepy.Cursor(api.search, q=search_term, tweet_mode='extended', lang='en', until='2019-05-24').items(max_count)\n",
    "    for tweet in tweets:\n",
    "        print(tweet.full_text)\n",
    "        print(tweet.created_at)\n",
    "        # Add tweets in this format\n",
    "        dict_ = {'Screen Name': tweet.user.screen_name,\n",
    "                'User Name': tweet.user.name,\n",
    "                'Tweet Created At': tweet.created_at,\n",
    "                'Tweet Text': tweet.full_text,\n",
    "                'User Location': tweet.user.location,\n",
    "                'Tweet Coordinates': tweet.coordinates,\n",
    "                'Retweet Count': tweet.retweet_count,\n",
    "                'Retweeted': tweet.retweeted,\n",
    "                'Phone Type': tweet.source,\n",
    "                'Favorite Count': tweet.favorite_count,\n",
    "                'Favorited': tweet.favorited,\n",
    "                'Replied': tweet.in_reply_to_status_id_str\n",
    "                }\n",
    "        #content = tweet.\n",
    "        collected_tweets.append(dict_)\n",
    "        print(\"\\n\\n\")\n",
    "    return collected_tweets\n",
    "        \n",
    "item = search_tweets(\"Swiggy AND Zomato\",10)\n",
    "#print(item)"
   ]
  }
 ],
 "metadata": {
  "kernelspec": {
   "display_name": "Python 3",
   "language": "python",
   "name": "python3"
  },
  "language_info": {
   "codemirror_mode": {
    "name": "ipython",
    "version": 3
   },
   "file_extension": ".py",
   "mimetype": "text/x-python",
   "name": "python",
   "nbconvert_exporter": "python",
   "pygments_lexer": "ipython3",
   "version": "3.6.8"
  }
 },
 "nbformat": 4,
 "nbformat_minor": 2
}
